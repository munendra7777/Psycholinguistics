{
 "cells": [
  {
   "cell_type": "markdown",
   "metadata": {},
   "source": [
    " - [x] **Munendra Kumar**\n",
    " - [X] **HOOMACL20170010**\n",
    " - [X] **M.A. Computational Linguistics**\n",
    " - [X] **Semester 4**\n",
    " - [X] **LS363: Seminar in Psycholinguistics**\n",
    " - [X] **Course Instructor: Dr. Shruti Sircar**"
   ]
  },
  {
   "cell_type": "markdown",
   "metadata": {
    "slideshow": {
     "slide_type": "slide"
    }
   },
   "source": [
    "# Seminar in Psycholinguistics\n",
    "## Internal Assesment I\n"
   ]
  },
  {
   "attachments": {
    "piaget-adaptation.jpg": {
     "image/jpeg": "https://github.com/munendra7777/Psycholinguistics/blob/master/piaget-adaptation.jpg}
   },
   "cell_type": "markdown",
   "metadata": {},
   "source": [
    "### Section 1 \n",
    "\n",
    "#### What are some of the major theories in cognitive development? How does Spelke’s core knowledge theory compare with Piaget’s theory?\n",
    "\n",
    "To understand **cognitive development** we must fist understand what **Cognition** Is. Cognition refers to all activity, processes, and products of the mind ,for example, Whatever you perceive using your senses. *Piaget's (1936)* **theory of cognitive development** explains how a child constructs a mental picture of the world. He is also known as **father of psychology**. He was a contructivist i.e. his theory suggest that children learn thing in building blocks as in constructing knowledge in bits for themselves. He observed his own children in infancy.  Certainly, child perceives the world as it is and is very different from how how adults see it. He disagreed with the idea that intelligence was a fixed trait, and regarded cognitive development as a process which occurs due to biological maturation and interaction with the outer world.\n",
    "\n",
    "*Piaget *was the first psychologist to make a systematic study of cognitive development and before him no recognisable work of cognitive development existed and the common assumption in psychology was that children are merely less competent thinkers than adults. Piaget showed that young children think in amazingly different ways compared to adults.Even though the theories proposed by *Piaget* dates back to the decades but his earliest research is still informative. The longitivity of his theories have many reasons. Some of them are listed below:\n",
    "\n",
    "- His theories/concepts provides us the sense as to what children's thinking is like.\n",
    "- His theory addressses the topics that have been interest of many scholars, scientists, philosophers and parents\n",
    "- His theory covers a wide age span of child development i.e. from infancy to adolescence\n",
    "- His theory covers object permanance which was the resultant of his observation concerning infants' failure to search for objects if they cannot see it.\n",
    "\n",
    "*Immanual Kant* was his major motivation for the development of his theories, who was also interested in *Origin of Knowledge*. His contributions include a stage theory of child cognitive development, detailed observational studies of cognition in children, and a series of simple but ingenious tests to reveal different cognitive abilities.\n",
    "\n",
    "- **There are three basic components to Piaget's cognitive theory:**\n",
    " - **Schemas** Schemas are the basic building blocks of such cognitive models, and enable us to form a mental representation of the world. Piaget (1952, p. 7) defined a schema as:\n",
    "     > \"a cohesive, repeatable action sequence possessing component actions that are tightly interconnected and governed by a core meaning.\" <br>\n",
    "     \n",
    "      - **Adaptation processes that enable the transition from one stage to another**\n",
    "        - **assimilation** (i.e. using an existing schema (knowledge) to deal with a new object or situation)\n",
    "        - **equilibrium** (occurs when a child's schemas can deal with most new information through assimilation)\n",
    "        - **accomodation** (occurs when the existing schema does not work, and needs to be changed to deal with a new object or situation)\n",
    "        \n",
    "        \n",
    "![piaget-adaptation.jpg](attachment:piaget-adaptation.jpg)\n",
    "\n",
    "*For xample: a toddler sees a *kite* in the sky and calls it a bird from its previous schema and calls it a bird and mother corrects him and tells its not a bird but its a *kite* and its a non-living object. This state is known as *assimilation*. The toddler now understands the difference between *the bird* and *the kite*. This state is known as state of *disequilibrium* and the next time the toddler sees a *kite* and recognises it as a *kite* This  state is known as *accomodation*. \n",
    "[Note:Assimilation is the addition of entirely new concept/idea/object while accomodation is the adjustment to the previuosly assimilated concept.]\n",
    "\n",
    "- **Stages of Development** \n",
    "\n",
    "According to *Piaget* all children walkthrough four stages and they do so in the same order. The four stages are as follows:\n",
    "\n",
    " - **Sensorimotor**: (ages 0-2), thinking involves seeing, hearing, moving, touching, tasting, etc. \n",
    "<br>During this stage, children go from reflex-type actions to goal-directed activity and physically interact with objects to move to next stage. At this stage *for example, children learn how to adjust their pupil for the light sensitivity.*<br>\n",
    "  - **Preoperational**: (ages 2-7), Development of language and the ability to use symbols.<br>\n",
    "    Child is self-centric; has trouble understanding another person's point of view. At this stage they learn to represent things symbolically i.e. mental imagery,drawing or language acquisition.\n",
    "    *for example, at this stage children usually develop egocentricism in them i.e. they cannot think of another aspect or cannot accomodate someone else's point of view.*\n",
    "    - **Concrete Operational**: (ages 7-11), Hands-on thinking stage.\n",
    "    Child understands reversibility, the laws of conservation, and can classify and seriate things.\n",
    "    *for example, at this stage children are able to put themselves in someone else's shoes i.e. they can take other's point of view or take into account more than one perspective.*\n",
    "      - **Formal Operational**: (ages 11-adult), develops the ability to think abstractly, think outside themselves about issues and problems in society, and works to develop an identity. \n",
    "      This stage brings up the child's potential for solving different types of problems that were impossible for them tackle at earlier stages. He says that this stage is not universal. \n",
    "      *for example, children at this stage understand that there are more realities might lead their interest to fiction books.*\n",
    "     \n",
    "He came to the realization that, children view the world differently than adults do. And, there seemed to be stages you could look at where the way they view the world changes in some systematic way. In fact he had this notion that, there's a certain ability with each of these stages that they have to grasp, and until they grasp that, they can't reach the next level and in order to properly educate them we need to detrmine at what stage they actually are. We cannot not just treat them like little adults, it won't work, because they don't think like little adults. So, he spent a lot of his life describing these stages. He theorized that the development of thinking and language can be traced back to actions, perceptions, and imitations by babies.\n"
   ]
  },
  {
   "cell_type": "markdown",
   "metadata": {},
   "source": [
    "**Sociocultural Approach**\n",
    "Russian psychologist *Lev Vygotsky* portrayed children as social beings intertwined with other people who were eager to help them learn and gain skills. According to *Vygotsky* there is a strong connection between learning\n",
    "language and the development of thinking. He states that higher mental processes are first developed through interaction and shared activities between children and another person usually parent/sibling. Children can then internalize these processes. \n",
    "\n",
    "*Vygotsky*, unlike *Piaget*, thought that abstract thinking could not develop on its own, but required language and Western schooling. Vygotsky believed that development and learning worked together through socialization and\n",
    "language and also that there was connection between cognitive and biological development. He claimed that knowledge from social interactions stimulate cognitive growth and development. Social and cultural factors are influential in the development of intelligence and passing on of the *history of social experience* and the use of *cultural tools* are an important for thought development\n",
    "\n",
    "\n"
   ]
  },
  {
   "cell_type": "markdown",
   "metadata": {},
   "source": [
    "Post *Piaget* there is no grand unifying theory of cognitive development.\n",
    "However there have been several trends post piaget in developmental reasearch:\n",
    "\n",
    "- connectionism (Bates, Elman, McClelland, Munakata)\n",
    "- information processing approaches (Case, Klahr, Siegler)\n",
    "- modularity theories (Leslie)\n",
    "- core knowledge (Spelke, Carey)\n",
    "- theory theory (Spelke, Carey, Gelman, Gopnik, Meltzoff,Wellman)\n",
    "\n",
    "We will look at *core knowledge(Spelke, Carey)* as that satisfies our purpose of question. \n",
    "Core knowledge theory addresses that human reasoning is guided by a collection of innate domain specific systems of knowledge. According to *Spelke* children are like *primate scientists* and argues that children are much more advanced in their thinking than *Piaget* estimated. These core knowledge systems are innate mechanisms that do specific tasks. *For example: a songbird’s ability to learn a song characteristic of their species or an ant’s ability to navigate a terrain in search of food, and a human’s ability to acquire language for that matter.\n",
    "\n",
    "Core knowledge theory operates on two domains:\n",
    "\n",
    "- **The domain of objects**\n",
    "    - Experiments with infants show that from an early age infants parse the visual array into objects and events. As early as 2 months of age, infants expect objects to be permanent \n",
    "        *For Example: If a ball is kept out of sight of an infant while playing he will look for the ball around him.\n",
    "    \n",
    "     - and that two objects cannot occupy the same space at the same time.\n",
    "         *For example: a ball cannot pass through a wall.* \n",
    "         \n",
    "       Objects are perceived as bounded, solid, continuous entities.\n",
    "       \n",
    "- **The domain of number**\n",
    "    - Similar to our knowledge of objects we also posses knowlege of knowledge. Experiments with infants show that from as early as 6 months of age, infants can detect a 1:2 ratio change in large numbers, but not a 2:3 ratio changen i.e. they would be able to tell the diffrence between 10 balls and 20 marbles but not between the 20 and 30 marbles. By 9 months of age, infants can detect a 2:3 ratio change and the precision in detection increases to a 7:8 ratio in adults.\n",
    "\n",
    "The core knowledge domains have mainly three characteristics:\n",
    "- core knowledge is task specific such that each system functions to solve a limited set of problems.\n",
    "    *For example, the number system can discriminate quantities based on their ratio, but this is not equivalent to the ability to count. The natural number system that supports counting is a complex construction that requires integration from the object and number systems as well as knowledge about the relation between number words and their referents.*\n",
    "\n",
    "- core knowledge domains are summarised in such a way that each system operates with a fair degree of independence from other cognitive systems. This has the advantage that core abilities are universal and are effortlessly acquired with very little experience. One such neurological research supports the independence of core systems and shows evidence that these domain-specific abilities can be lost while other cognitive abilities remain intact. \n",
    "\n",
    "- core knowledge is made up of a limited number of domain-specific systems that comprise evolutionarily important abilities. Currently there is evidence supporting domain-specific systems of objects, number, agents and their actions, and geometry of the environment.\n",
    "\n",
    "From the above we could conclude that *Piaget's theory of development* focusses on just *innate learning mechanisms and are domain general* while *Spelke's theory of core knowledge* focusses on *particular content knowledge and are domain specific*. "
   ]
  },
  {
   "cell_type": "markdown",
   "metadata": {
    "slideshow": {
     "slide_type": "slide"
    }
   },
   "source": [
    "### Section 2 \n",
    "\n",
    "#### Why do children assume that transitive constructions are telic and intransitive constructions atelic? How do you think they grow out of this bias?\n",
    "\n",
    "The results from the study *Aspectual Bootstrapping in Language Acquisition: Telicity and Transitivity* \n",
    "conducted by *Laura Wagner* suggest that children as old as 2 to 3 years use **transtivity** as a structural cue to **telicity semantics** but the study also suggests that dependence on this cue fades with age.\n",
    "\n",
    "**Why this dependence fades away as children grow older?**\n",
    "\n",
    "Before diving into this we should first understand what determines *telicity* and how *Laura Wagner* carried out these studies."
   ]
  },
  {
   "cell_type": "markdown",
   "metadata": {
    "slideshow": {
     "slide_type": "subslide"
    }
   },
   "source": [
    "**The Telic and Atelic distinction**\n",
    "\n",
    "Telicity is lexical semantic property of predicates and it indicates whether or not an event has an inherent endpoint or a boundary.\n",
    "\n",
    "- An event is telic if it has an endpoint.\n",
    "- An event is atelic if it lacks an endpoint.\n",
    "\n",
    "|Telic|Atelic|\n",
    "|:------------------------:|:-------------------:|\n",
    "|The dog jumped into the river.|The dog jumped.|\n",
    "\n"
   ]
  },
  {
   "cell_type": "markdown",
   "metadata": {
    "slideshow": {
     "slide_type": "subslide"
    }
   },
   "source": [
    "**There are various tests to distinguish between telic and atelic predicates.**\n",
    "\n",
    "Let's have a closer look on these tests:\n",
    "\n",
    "- **Verb 'almost'**  *(Dowty, 1979; Vendler, 1967)*\n",
    "\n",
    "When we use the verb *almost* with such predicates, we get two interpretations for telic predicates and one interpretation for atelic predicates.\n",
    "\n",
    "Let's test this against a telic predicate and atelic predicate.flexible about where their count-\n",
    "ing criterion comes from\n",
    "\n",
    "|Telic|Atelic|\n",
    "|:------------------------:|:------------------:|\n",
    "|The boy almost ate an apple.|The boy almost ate.|\n",
    "\n",
    "*In the above example we get two interpretations for the telic predicate. <br> First, that 'The boy started to eat the apple.' and Second, that 'The boy started to eat the apple but did not finish it'.<br> While in the atelic predicate we notice that we get only one interpretation which is 'The boy did not even begin eating.'*\n",
    "\n",
    "Clearly, we can see that verb *almost* disambiguates *telic and atelic* predicates."
   ]
  },
  {
   "cell_type": "markdown",
   "metadata": {
    "slideshow": {
     "slide_type": "subslide"
    }
   },
   "source": [
    "- **Adverbial 'for X time' and 'in X time'**  *(Dowty, 1979; Vendler, 1967)*\n",
    "\n",
    "Telic and atelic naturally combine with different adverbs of time indicating duration of an event.\n",
    "\n",
    "|Telic|Atelic|\n",
    "|:------------------------:|:------------------:|\n",
    "|The boy ate an apple in 5 minutes/#for 5 minutes.|The boy ate for 5 minutes/#in 5 minutes.|\n",
    "\n",
    "*In the example we notice that the telic predicate naturally combines with the adverbial 'in 5 minutes' while, atelic predicate naturally combine with the adverbial 'for 5 minutes'. However, the non-natural alternatives marked with # may give a sensible interpretation.*"
   ]
  },
  {
   "cell_type": "markdown",
   "metadata": {},
   "source": [
    "- **Progressive**\n",
    "\n",
    "|a. Imperfective-atelic|b. Perfective-atelic|c. Imperfective-telic|d. Perfective-telic|\n",
    "|:-------------------:|:------------------:|:-----------------:|:----------------:|\n",
    "|Tamyra was singing.|Tamyra sang.|LaToya was singing the song./when Simon cut her off.|LaToya sang the song./when Simon cut her off.|\n",
    "\n",
    "*In the above examples we notice that the imperfective-atelic predicate entails perfective-atelic predicate while imperfective-telic predicate does not entails perfective-telic predicate, instead it contradicts perfective-telic predicate on adding continuation 'when Simon cut her off', however, adding the continuation to the imperfective-telic predicate yileds a perfectly natural sounding construction*"
   ]
  },
  {
   "cell_type": "markdown",
   "metadata": {},
   "source": [
    "- **Temporal modification** *(Verkuyl,1972,1993)*\n",
    "\n",
    "There are two conditions concerning temporal modification that have to be fulfilled as suggested by *Verkuyl*. \n",
    "- full temporal PPs should be conjoined (i.e. the second ‘on’ cannot be omitted)\n",
    "- the temporal units denoted by these PPs should be subsequent.\n",
    "*For instance, the expression ‘on Monday and on Tuesday’ provides good grounds for testing, while ‘on Monday and on Wednesday’ does not.*\n",
    "\n",
    "|Atelic|Telic|\n",
    "|:------------:|:-------------:|\n",
    "|Mary drove her car on Monday and on Tuesday.|Mary ran a mile on Monday and on Tuesday|\n",
    "\n",
    "*In the above examples we notice that atelic predicate gives rise to a interpretation that 'Mary started driving her car on Monday and continued till Tuesday while telic predicate has only one interpretation that 'Mary ran 1 mile on Monday and 1 mile on Tuesday' and is specifically marked by a boundary i.e. 'a mile'*"
   ]
  },
  {
   "cell_type": "markdown",
   "metadata": {},
   "source": [
    "- **Countability** *(Bach, 1986)*\n",
    "\n",
    "*Bach* argued that atelic predicates could not be naturally counted at all but *Wagner* disagrees with him and argues that it is more difficult to count atelic events than telic ones because atelic descriptions do not provide criteria for counting—such as an inherent endpoint but are flexible about where their counting criterion comes from while telic ones have a specific criterion.\n",
    "\n",
    "|Telic|Atelic|\n",
    "|:------:|:-------:|\n",
    "|Ryan fell asleep 3 times|?? Ryan slept 3 times|\n",
    "\n",
    "*In the above example, since atelic predicates lack specific endpoint therefore counting them is more awkward.*\n"
   ]
  },
  {
   "cell_type": "markdown",
   "metadata": {},
   "source": [
    "Despite the complexities of the telicity predicates transitive structures do play an important role in determining telicity atleast in the case of infants as young as 2 year olds regardless of whether transitive structures are the only way to convey telicity or their ability to do so actually depends on deeper semantics and syntactic properties. *(cf.Hay et al., 1999; Jackendoff, 1996; Pustejovsky, 1995)*\n",
    "\n",
    "Laura wagner conducted a study on 2, 3 and 5 years olds children using an event counting task. Her studies contained a salient goal i.e. the right individuation unit for a telic description  achieved by two or more actions/steps separated by a spatiotemporal pause (plausible individuation units for an atelic description)\n",
    "\n",
    "*For Example: A boy pushes a ball into the can.(in two distinct spatiotemporal steps/attempts)* \n",
    "\n",
    "So, here:\n",
    "Goal= to put the ball into the can (telic predicate)\n",
    "Spatiotemporal steps= steps/attempts made to put the ball into the can.(Atelic predicate)\n",
    "\n",
    "Children were shown movies which were described with either a telic or an atelic predicate, and the\n",
    "dependent measure was whether children counted the event’s goals or steps.\n",
    "\n",
    "Wagner tested 4 types of transitivity-telicity:\n",
    "\n",
    "|Canonical|All transitive pairs|All intransitive pairs|Mass count noun pairs|\n",
    "|:-------:|:------------:|:-----------:|:------------:|\n",
    "|transitive structure= telic meaning|transitive structure = telic/atelic meaning|instransitive structure = telic/atelic meaning|transitive structure with mass count noun = telic/atelic meaning|\n",
    "|intransitive structure= atelic meaning|*Example1:The bird popped the balloon.*|*Example1:The door closed.*|*Example1:The girl drank a glass of juice.*|\n",
    "|*Example1:The girl painted a flower.*|*Example2:The bird poked the balloon*|*Example2:The door slid.*|*Example2:The girl drank juice.*|\n",
    "|*Example2:The girl painted.*|"
   ]
  },
  {
   "cell_type": "markdown",
   "metadata": {},
   "source": [
    "The results of the study conducted by Wagner showed that children a syoung as 2 year 10 months old use the telicity of a description to choose their individuation strategy and that children of this age know at least some ways of marking telicity in English. \n",
    "\n",
    "**Now the question arises as to why do children assume that transitive constructions are telic and intransitive constructions atelic and this bias wanes with age?**\n",
    "To answer this question let's not forget that we are dealing with the children of the age group 2-5 year olds. However, telicity is one of the topics of semantics which even adults find it difficult adjust with. Considering the complexities involved in telicity semantics it is expected as children get older, the reliance on transitive structures for telicity fades away because children begin to understand the meanings of the specific elements in the sentence better as well as how to put those meaning together.\n",
    "\n",
    "We should also not forget that very young children produce incomplete predicates so the assessment of knowledge of telicity semantics is based solely on the available information *i.e. the verb*.\n",
    "\n",
    "The studies conducted by *VanHout(2000)* suggests that there is a long gap between the age at which children notice something about the and the age at which they know how to syntactically encode it. One study conducted by *Melissa Kline, Jesse Snedeker & Laura Schulz(2017)* on children of 3-4 year old to determine *How do children map linguistic representations onto the conceptual structures that they encode?* reveal that children’s expectations about transitive verbs are at least partly driven by their non-linguistic understanding of causal events. Children expect transitive syntax to refer to scenes where the agent’s action is a plausible cause of the outcome.\n",
    "However, we see that young infants do differentiate between transitive and atelic predicates and have rich representation of what constitutes an agent, a cause or an event but not necessarily that they have adult-like representations. \n",
    "\n",
    "There could be two factors involved as to why transtivity serves as a cue to telicity semantics as disscussed by *Wagner*:\n",
    "\n",
    "- Since direct objects can define event boundaries and serve to measure them out.They may not be the only way to accomplish this, and if they lack certain properties they will not do it at all, but on the whole they are very effective at bounding events. \n",
    "- The second factor is that the acquisition of meaning is hard (cf. Naigles, 2002), and an imperfect structural cue to meaning is better than no cue at all.\n",
    "\n",
    "At younger stage children assume that transitive structures signal telic meanings, they do not conversely assume that intransitive structures signal atelic meanings. Children are quite successful at assigning telic meaning to (surface) intransitive sentences.\n",
    "\n"
   ]
  },
  {
   "cell_type": "markdown",
   "metadata": {},
   "source": [
    "### References\n",
    "\n",
    "- Spelke,Elizabeth S. and D. Kinzler,Katherine(2007).Core knowledge.*Developmental Science* 10:1 (2007), pp 89–96\n",
    "- Schulz,Laura(2012).Infant and Early Childhood Cognition.Massachusetts Institute of Technology: MIT OpenCourseWare, https://ocw.mit.edu.\n",
    "- Susan,Hespos (2017).Core knowledge\n",
    "- Rakison, David(2017).Principles of Child Development.85-221\n",
    "- Kirk,Sara (2012).Piaget & Vygotsky: A Comparison.\n",
    "- Joordens,Steve (2017). Introduction to Psychology.University of Toronto, https://www.coursera.org.\n",
    "- Spelke,Elizabeth S.,Breinlinger,Karen. Macomber,Janet and Jocobson,Kristen(1992). Origins of Knowledge, *Psychological Review* 1992,Vol.99.No.4,605-632\n",
    "- Lakusta,Laura & Susan,Carey(2015) Twelve-Month-Old Infants’ Encoding of Goal and Source Paths in Agentive and Non-Agentive Motion Events, *Language Learning and Development*, 11:2, 152-175, DOI: 10.1080/15475441.2014.896168\n",
    "- Wagner, Laura. (2006). Aspectual Bootstrapping in Language Acquisition: Telicity and Transitivity. *Language Learning and Development*. 2. 51-76. 10.1207/s15473341lld0201_3.\n",
    "- Katherine Messenger, Sylvia Yuan & Cynthia Fisher (2015) Learning Verb Syntax via Listening: New Evidence From 22-Month-Olds, *Language Learning and Development*, 11:4, 356-368, DOI: 10.1080/15475441.2014.978331\n",
    "-  Melissa Kline, Jesse Snedeker & Laura Schulz (2017) Linking Language and Events: Spatiotemporal Cues Drive Children’s Expectations About the Meanings of Novel Transitive Verbs, *Language Learning and Development*, 13:1, 1-23, DOI: 10.1080/15475441.2016.1171771\n",
    "- Lucia Pozzan, Lila R. Gleitman & John C. Trueswell (2016) Semantic Ambiguity and Syntactic Bootstrapping: The Case of Conjoined-Subject Intransitive Sentences, *Language Learning and Development*, 12:1, 14-41, DOI: 10.1080/15475441.2015.1018420\n",
    "- Shaffer,David R. Kipp,Katherine(2007). Theories of Human Development.*Developmental Psychology Childhood and Adolescence*. pp 41-75, \n",
    " \n",
    "\n",
    "\n",
    "\n",
    "\n"
   ]
  }
 ],
 "metadata": {
  "kernelspec": {
   "display_name": "Python 3",
   "language": "python",
   "name": "python3"
  },
  "language_info": {
   "codemirror_mode": {
    "name": "ipython",
    "version": 3
   },
   "file_extension": ".py",
   "mimetype": "text/x-python",
   "name": "python",
   "nbconvert_exporter": "python",
   "pygments_lexer": "ipython3",
   "version": "3.6.8"
  }
 },
 "nbformat": 4,
 "nbformat_minor": 2
}
